{
 "cells": [
  {
   "cell_type": "code",
   "execution_count": 17,
   "metadata": {},
   "outputs": [],
   "source": [
    "import pandas as pd\n",
    "import subprocess\n",
    "import os.path"
   ]
  },
  {
   "cell_type": "code",
   "execution_count": 18,
   "metadata": {},
   "outputs": [],
   "source": [
    "path_res = '../../data/META/accessions_samples.csv'"
   ]
  },
  {
   "cell_type": "code",
   "execution_count": 19,
   "metadata": {},
   "outputs": [],
   "source": [
    "df = pd.read_csv(path_res)"
   ]
  },
  {
   "cell_type": "code",
   "execution_count": 20,
   "metadata": {},
   "outputs": [
    {
     "name": "stdout",
     "output_type": "stream",
     "text": [
      "297\n"
     ]
    },
    {
     "data": {
      "text/html": [
       "<div>\n",
       "<style scoped>\n",
       "    .dataframe tbody tr th:only-of-type {\n",
       "        vertical-align: middle;\n",
       "    }\n",
       "\n",
       "    .dataframe tbody tr th {\n",
       "        vertical-align: top;\n",
       "    }\n",
       "\n",
       "    .dataframe thead th {\n",
       "        text-align: right;\n",
       "    }\n",
       "</style>\n",
       "<table border=\"1\" class=\"dataframe\">\n",
       "  <thead>\n",
       "    <tr style=\"text-align: right;\">\n",
       "      <th></th>\n",
       "      <th>sample</th>\n",
       "      <th>run</th>\n",
       "    </tr>\n",
       "  </thead>\n",
       "  <tbody>\n",
       "    <tr>\n",
       "      <td>0</td>\n",
       "      <td>WW-279</td>\n",
       "      <td>SRR8894607</td>\n",
       "    </tr>\n",
       "    <tr>\n",
       "      <td>1</td>\n",
       "      <td>WW-280</td>\n",
       "      <td>SRR8894608</td>\n",
       "    </tr>\n",
       "  </tbody>\n",
       "</table>\n",
       "</div>"
      ],
      "text/plain": [
       "   sample         run\n",
       "0  WW-279  SRR8894607\n",
       "1  WW-280  SRR8894608"
      ]
     },
     "execution_count": 20,
     "metadata": {},
     "output_type": "execute_result"
    }
   ],
   "source": [
    "print(len(df.index))\n",
    "df.head(2)"
   ]
  },
  {
   "cell_type": "code",
   "execution_count": null,
   "metadata": {},
   "outputs": [
    {
     "name": "stdout",
     "output_type": "stream",
     "text": [
      "fastq-dump --gzip SRR8894607 --outdir ../../data/SRA ../../data/SRA/SRR8894607.fastq.gz\n",
      "0\n",
      "fastq-dump --gzip SRR8894608 --outdir ../../data/SRA ../../data/SRA/SRR8894608.fastq.gz\n",
      "0\n",
      "fastq-dump --gzip SRR8894610 --outdir ../../data/SRA ../../data/SRA/SRR8894610.fastq.gz\n",
      "0\n",
      "fastq-dump --gzip SRR8894611 --outdir ../../data/SRA ../../data/SRA/SRR8894611.fastq.gz\n",
      "0\n",
      "fastq-dump --gzip SRR8894612 --outdir ../../data/SRA ../../data/SRA/SRR8894612.fastq.gz\n"
     ]
    }
   ],
   "source": [
    "for k,v in df.iterrows():\n",
    "    path_dir = '../../data/SRA'\n",
    "    command = \"fastq-dump --gzip %s --outdir %s\"\n",
    "    command = command % (v['run'], path_dir)\n",
    "    filename = '%s/%s.fastq.gz' % (path_dir,v['run'])\n",
    "    if os.path.exists(filename):\n",
    "        print(filename, 'exists, skippping')\n",
    "        continue\n",
    "    print(command, filename)\n",
    "    process = subprocess.Popen(command, shell=True, stdout=subprocess.PIPE)\n",
    "    process.wait()\n",
    "    print(process.returncode)"
   ]
  },
  {
   "cell_type": "code",
   "execution_count": null,
   "metadata": {},
   "outputs": [],
   "source": []
  },
  {
   "cell_type": "code",
   "execution_count": null,
   "metadata": {},
   "outputs": [],
   "source": []
  },
  {
   "cell_type": "raw",
   "metadata": {},
   "source": []
  }
 ],
 "metadata": {
  "kernelspec": {
   "display_name": "Python 3",
   "language": "python",
   "name": "python3"
  },
  "language_info": {
   "codemirror_mode": {
    "name": "ipython",
    "version": 3
   },
   "file_extension": ".py",
   "mimetype": "text/x-python",
   "name": "python",
   "nbconvert_exporter": "python",
   "pygments_lexer": "ipython3",
   "version": "3.6.5"
  }
 },
 "nbformat": 4,
 "nbformat_minor": 4
}
