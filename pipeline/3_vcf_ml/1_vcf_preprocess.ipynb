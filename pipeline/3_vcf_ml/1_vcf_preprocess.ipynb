{
 "cells": [
  {
   "cell_type": "code",
   "execution_count": 11,
   "metadata": {},
   "outputs": [],
   "source": [
    "import pandas as pd"
   ]
  },
  {
   "cell_type": "code",
   "execution_count": 13,
   "metadata": {},
   "outputs": [],
   "source": [
    "path_vcf = '/home/juan/Desktop/juan/bio/WHEALBI/data/META/iwgsc_refseqv1.0_Whealbi_GWAS/whealbi.imputed.vcf'\n",
    "skiprows = 8"
   ]
  },
  {
   "cell_type": "code",
   "execution_count": 14,
   "metadata": {},
   "outputs": [],
   "source": [
    "df = pd.read_csv(path_vcf, sep='\\t',skiprows=skiprows)"
   ]
  },
  {
   "cell_type": "code",
   "execution_count": 15,
   "metadata": {},
   "outputs": [
    {
     "name": "stdout",
     "output_type": "stream",
     "text": [
      "620158\n"
     ]
    },
    {
     "data": {
      "text/html": [
       "<div>\n",
       "<style scoped>\n",
       "    .dataframe tbody tr th:only-of-type {\n",
       "        vertical-align: middle;\n",
       "    }\n",
       "\n",
       "    .dataframe tbody tr th {\n",
       "        vertical-align: top;\n",
       "    }\n",
       "\n",
       "    .dataframe thead th {\n",
       "        text-align: right;\n",
       "    }\n",
       "</style>\n",
       "<table border=\"1\" class=\"dataframe\">\n",
       "  <thead>\n",
       "    <tr style=\"text-align: right;\">\n",
       "      <th></th>\n",
       "      <th>#CHROM</th>\n",
       "      <th>POS</th>\n",
       "      <th>ID</th>\n",
       "      <th>REF</th>\n",
       "      <th>ALT</th>\n",
       "      <th>QUAL</th>\n",
       "      <th>FILTER</th>\n",
       "      <th>INFO</th>\n",
       "      <th>FORMAT</th>\n",
       "      <th>WW-001</th>\n",
       "      <th>...</th>\n",
       "      <th>WW-503</th>\n",
       "      <th>WW-504</th>\n",
       "      <th>WW-505</th>\n",
       "      <th>WW-506</th>\n",
       "      <th>WW-507</th>\n",
       "      <th>WW-508</th>\n",
       "      <th>WW-509</th>\n",
       "      <th>WW-510</th>\n",
       "      <th>WW-511</th>\n",
       "      <th>WW-512</th>\n",
       "    </tr>\n",
       "  </thead>\n",
       "  <tbody>\n",
       "    <tr>\n",
       "      <td>0</td>\n",
       "      <td>chr1A</td>\n",
       "      <td>168831</td>\n",
       "      <td>WTa_096d3b</td>\n",
       "      <td>C</td>\n",
       "      <td>T</td>\n",
       "      <td>.</td>\n",
       "      <td>PASS</td>\n",
       "      <td>CLOSEST_LC_GENE=TraesCS1A01G000600LC|18903;ANN...</td>\n",
       "      <td>GT:DP</td>\n",
       "      <td>./.:.</td>\n",
       "      <td>...</td>\n",
       "      <td>1/1:.</td>\n",
       "      <td>./.:.</td>\n",
       "      <td>1/1:.</td>\n",
       "      <td>./.:.</td>\n",
       "      <td>./.:.</td>\n",
       "      <td>./.:.</td>\n",
       "      <td>./.:.</td>\n",
       "      <td>./.:.</td>\n",
       "      <td>./.:.</td>\n",
       "      <td>./.:.</td>\n",
       "    </tr>\n",
       "    <tr>\n",
       "      <td>1</td>\n",
       "      <td>chr1A</td>\n",
       "      <td>1145252</td>\n",
       "      <td>WTa_00005f</td>\n",
       "      <td>G</td>\n",
       "      <td>C</td>\n",
       "      <td>.</td>\n",
       "      <td>PASS</td>\n",
       "      <td>CLOSEST_LC_GENE=TraesCS1A01G002300LC|10270;ANN...</td>\n",
       "      <td>GT:DP</td>\n",
       "      <td>0/0:3</td>\n",
       "      <td>...</td>\n",
       "      <td>0/0:7</td>\n",
       "      <td>0/0:.</td>\n",
       "      <td>0/0:5</td>\n",
       "      <td>0/0:9</td>\n",
       "      <td>0/0:.</td>\n",
       "      <td>0/0:5</td>\n",
       "      <td>0/0:.</td>\n",
       "      <td>0/0:3</td>\n",
       "      <td>0/0:3</td>\n",
       "      <td>0/0:4</td>\n",
       "    </tr>\n",
       "  </tbody>\n",
       "</table>\n",
       "<p>2 rows × 496 columns</p>\n",
       "</div>"
      ],
      "text/plain": [
       "  #CHROM      POS          ID REF ALT QUAL FILTER  \\\n",
       "0  chr1A   168831  WTa_096d3b   C   T    .   PASS   \n",
       "1  chr1A  1145252  WTa_00005f   G   C    .   PASS   \n",
       "\n",
       "                                                INFO FORMAT WW-001  ...  \\\n",
       "0  CLOSEST_LC_GENE=TraesCS1A01G000600LC|18903;ANN...  GT:DP  ./.:.  ...   \n",
       "1  CLOSEST_LC_GENE=TraesCS1A01G002300LC|10270;ANN...  GT:DP  0/0:3  ...   \n",
       "\n",
       "  WW-503 WW-504 WW-505 WW-506 WW-507 WW-508 WW-509 WW-510 WW-511 WW-512  \n",
       "0  1/1:.  ./.:.  1/1:.  ./.:.  ./.:.  ./.:.  ./.:.  ./.:.  ./.:.  ./.:.  \n",
       "1  0/0:7  0/0:.  0/0:5  0/0:9  0/0:.  0/0:5  0/0:.  0/0:3  0/0:3  0/0:4  \n",
       "\n",
       "[2 rows x 496 columns]"
      ]
     },
     "execution_count": 15,
     "metadata": {},
     "output_type": "execute_result"
    }
   ],
   "source": [
    "print(len(df.index))\n",
    "df.head(2)"
   ]
  },
  {
   "cell_type": "code",
   "execution_count": null,
   "metadata": {},
   "outputs": [],
   "source": []
  },
  {
   "cell_type": "code",
   "execution_count": null,
   "metadata": {},
   "outputs": [],
   "source": []
  },
  {
   "cell_type": "code",
   "execution_count": null,
   "metadata": {},
   "outputs": [],
   "source": []
  },
  {
   "cell_type": "code",
   "execution_count": null,
   "metadata": {},
   "outputs": [],
   "source": []
  },
  {
   "cell_type": "code",
   "execution_count": null,
   "metadata": {},
   "outputs": [],
   "source": []
  },
  {
   "cell_type": "code",
   "execution_count": null,
   "metadata": {},
   "outputs": [],
   "source": []
  },
  {
   "cell_type": "code",
   "execution_count": null,
   "metadata": {},
   "outputs": [],
   "source": []
  },
  {
   "cell_type": "code",
   "execution_count": null,
   "metadata": {},
   "outputs": [],
   "source": []
  }
 ],
 "metadata": {
  "kernelspec": {
   "display_name": "Python 3",
   "language": "python",
   "name": "python3"
  },
  "language_info": {
   "codemirror_mode": {
    "name": "ipython",
    "version": 3
   },
   "file_extension": ".py",
   "mimetype": "text/x-python",
   "name": "python",
   "nbconvert_exporter": "python",
   "pygments_lexer": "ipython3",
   "version": "3.6.8"
  }
 },
 "nbformat": 4,
 "nbformat_minor": 4
}
