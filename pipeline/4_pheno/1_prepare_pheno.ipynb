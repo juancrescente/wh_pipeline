{
 "cells": [
  {
   "cell_type": "code",
   "execution_count": 6,
   "metadata": {},
   "outputs": [],
   "source": [
    "import pandas as pd"
   ]
  },
  {
   "cell_type": "code",
   "execution_count": 7,
   "metadata": {},
   "outputs": [],
   "source": [
    "pheno = 'Heading'\n"
   ]
  },
  {
   "cell_type": "code",
   "execution_count": 8,
   "metadata": {},
   "outputs": [],
   "source": [
    "df = pd.read_csv('../../data/phenotypes/PhenoDataAgostino.csv',sep=',')"
   ]
  },
  {
   "cell_type": "code",
   "execution_count": 9,
   "metadata": {},
   "outputs": [
    {
     "name": "stdout",
     "output_type": "stream",
     "text": [
      "4950\n"
     ]
    },
    {
     "data": {
      "text/html": [
       "<div>\n",
       "<style scoped>\n",
       "    .dataframe tbody tr th:only-of-type {\n",
       "        vertical-align: middle;\n",
       "    }\n",
       "\n",
       "    .dataframe tbody tr th {\n",
       "        vertical-align: top;\n",
       "    }\n",
       "\n",
       "    .dataframe thead th {\n",
       "        text-align: right;\n",
       "    }\n",
       "</style>\n",
       "<table border=\"1\" class=\"dataframe\">\n",
       "  <thead>\n",
       "    <tr style=\"text-align: right;\">\n",
       "      <th></th>\n",
       "      <th>Env</th>\n",
       "      <th>LotName</th>\n",
       "      <th>AccessionName</th>\n",
       "      <th>Block</th>\n",
       "      <th>Plot</th>\n",
       "      <th>Heading</th>\n",
       "      <th>Height</th>\n",
       "      <th>AwnLength</th>\n",
       "      <th>AwnRoughness</th>\n",
       "      <th>GrainWeight</th>\n",
       "      <th>...</th>\n",
       "      <th>FruitingEfficiency</th>\n",
       "      <th>SpikeLength</th>\n",
       "      <th>WinterSurvival</th>\n",
       "      <th>Lodging</th>\n",
       "      <th>LeafRust</th>\n",
       "      <th>StripeRust</th>\n",
       "      <th>PowderyMildew</th>\n",
       "      <th>CarbonIsotopeDiscrimination</th>\n",
       "      <th>CarbonContent</th>\n",
       "      <th>PlotGrainWeight</th>\n",
       "    </tr>\n",
       "  </thead>\n",
       "  <tbody>\n",
       "    <tr>\n",
       "      <th>0</th>\n",
       "      <td>WS3-TUR-irrigated</td>\n",
       "      <td>WW-044</td>\n",
       "      <td>KALAHARI</td>\n",
       "      <td>1</td>\n",
       "      <td>1</td>\n",
       "      <td>NaN</td>\n",
       "      <td>NaN</td>\n",
       "      <td>NaN</td>\n",
       "      <td>NaN</td>\n",
       "      <td>NaN</td>\n",
       "      <td>...</td>\n",
       "      <td>NaN</td>\n",
       "      <td>NaN</td>\n",
       "      <td>NaN</td>\n",
       "      <td>NaN</td>\n",
       "      <td>NaN</td>\n",
       "      <td>NaN</td>\n",
       "      <td>NaN</td>\n",
       "      <td>NaN</td>\n",
       "      <td>NaN</td>\n",
       "      <td>NaN</td>\n",
       "    </tr>\n",
       "    <tr>\n",
       "      <th>1</th>\n",
       "      <td>WS3-TUR-irrigated</td>\n",
       "      <td>WW-497</td>\n",
       "      <td>DESI</td>\n",
       "      <td>1</td>\n",
       "      <td>2</td>\n",
       "      <td>NaN</td>\n",
       "      <td>NaN</td>\n",
       "      <td>NaN</td>\n",
       "      <td>NaN</td>\n",
       "      <td>NaN</td>\n",
       "      <td>...</td>\n",
       "      <td>NaN</td>\n",
       "      <td>NaN</td>\n",
       "      <td>NaN</td>\n",
       "      <td>NaN</td>\n",
       "      <td>NaN</td>\n",
       "      <td>NaN</td>\n",
       "      <td>NaN</td>\n",
       "      <td>NaN</td>\n",
       "      <td>NaN</td>\n",
       "      <td>NaN</td>\n",
       "    </tr>\n",
       "  </tbody>\n",
       "</table>\n",
       "<p>2 rows × 21 columns</p>\n",
       "</div>"
      ],
      "text/plain": [
       "                 Env LotName AccessionName  Block  Plot  Heading Height  \\\n",
       "0  WS3-TUR-irrigated  WW-044      KALAHARI      1     1      NaN    NaN   \n",
       "1  WS3-TUR-irrigated  WW-497          DESI      1     2      NaN    NaN   \n",
       "\n",
       "   AwnLength  AwnRoughness  GrainWeight       ...        FruitingEfficiency  \\\n",
       "0        NaN           NaN          NaN       ...                       NaN   \n",
       "1        NaN           NaN          NaN       ...                       NaN   \n",
       "\n",
       "   SpikeLength  WinterSurvival Lodging  LeafRust  StripeRust  PowderyMildew  \\\n",
       "0          NaN             NaN     NaN       NaN         NaN            NaN   \n",
       "1          NaN             NaN     NaN       NaN         NaN            NaN   \n",
       "\n",
       "   CarbonIsotopeDiscrimination  CarbonContent  PlotGrainWeight  \n",
       "0                          NaN            NaN              NaN  \n",
       "1                          NaN            NaN              NaN  \n",
       "\n",
       "[2 rows x 21 columns]"
      ]
     },
     "execution_count": 9,
     "metadata": {},
     "output_type": "execute_result"
    }
   ],
   "source": [
    "print(len(df.index))\n",
    "df['LotName'] = df['LotName'].str.replace('s','w')\n",
    "df['LotName'] = df['LotName'].str.replace('ww','WW')\n",
    "df.head(2)"
   ]
  },
  {
   "cell_type": "code",
   "execution_count": 10,
   "metadata": {},
   "outputs": [
    {
     "name": "stdout",
     "output_type": "stream",
     "text": [
      "Env 4950\n",
      "LotName 4950\n",
      "AccessionName 4930\n",
      "Block 4950\n",
      "Plot 4950\n",
      "Heading 3404\n",
      "Height 4114\n",
      "AwnLength 2303\n",
      "AwnRoughness 1683\n",
      "GrainWeight 2737\n",
      "PeduncleLength 1957\n",
      "FruitingEfficiency 2108\n",
      "SpikeLength 2168\n",
      "WinterSurvival 1199\n",
      "Lodging 600\n",
      "LeafRust 600\n",
      "StripeRust 1224\n",
      "PowderyMildew 600\n",
      "CarbonIsotopeDiscrimination 596\n",
      "CarbonContent 596\n",
      "PlotGrainWeight 1196\n"
     ]
    }
   ],
   "source": [
    "for col in df.columns:\n",
    "    count = len(df[df[col].notnull()].index)\n",
    "    print(col, count)"
   ]
  },
  {
   "cell_type": "code",
   "execution_count": 11,
   "metadata": {},
   "outputs": [
    {
     "data": {
      "text/html": [
       "<div>\n",
       "<style scoped>\n",
       "    .dataframe tbody tr th:only-of-type {\n",
       "        vertical-align: middle;\n",
       "    }\n",
       "\n",
       "    .dataframe tbody tr th {\n",
       "        vertical-align: top;\n",
       "    }\n",
       "\n",
       "    .dataframe thead th {\n",
       "        text-align: right;\n",
       "    }\n",
       "</style>\n",
       "<table border=\"1\" class=\"dataframe\">\n",
       "  <thead>\n",
       "    <tr style=\"text-align: right;\">\n",
       "      <th></th>\n",
       "      <th>Env</th>\n",
       "      <th>LotName</th>\n",
       "      <th>Heading</th>\n",
       "    </tr>\n",
       "  </thead>\n",
       "  <tbody>\n",
       "    <tr>\n",
       "      <th>632</th>\n",
       "      <td>WS2-MTA</td>\n",
       "      <td>WW-456</td>\n",
       "      <td>90.0</td>\n",
       "    </tr>\n",
       "    <tr>\n",
       "      <th>633</th>\n",
       "      <td>WS2-MTA</td>\n",
       "      <td>WW-028</td>\n",
       "      <td>99.0</td>\n",
       "    </tr>\n",
       "    <tr>\n",
       "      <th>635</th>\n",
       "      <td>WS2-MTA</td>\n",
       "      <td>WW-449</td>\n",
       "      <td>97.0</td>\n",
       "    </tr>\n",
       "    <tr>\n",
       "      <th>636</th>\n",
       "      <td>WS2-MTA</td>\n",
       "      <td>WW-1002</td>\n",
       "      <td>87.0</td>\n",
       "    </tr>\n",
       "    <tr>\n",
       "      <th>638</th>\n",
       "      <td>WS2-MTA</td>\n",
       "      <td>WW-207</td>\n",
       "      <td>88.0</td>\n",
       "    </tr>\n",
       "    <tr>\n",
       "      <th>639</th>\n",
       "      <td>WS2-MTA</td>\n",
       "      <td>WW-257</td>\n",
       "      <td>90.0</td>\n",
       "    </tr>\n",
       "  </tbody>\n",
       "</table>\n",
       "</div>"
      ],
      "text/plain": [
       "         Env  LotName  Heading\n",
       "632  WS2-MTA   WW-456     90.0\n",
       "633  WS2-MTA   WW-028     99.0\n",
       "635  WS2-MTA   WW-449     97.0\n",
       "636  WS2-MTA  WW-1002     87.0\n",
       "638  WS2-MTA   WW-207     88.0\n",
       "639  WS2-MTA   WW-257     90.0"
      ]
     },
     "execution_count": 11,
     "metadata": {},
     "output_type": "execute_result"
    }
   ],
   "source": [
    "df_ = df[df[pheno].notnull()][['Env','LotName',pheno]]\n",
    "df_.head(6)"
   ]
  },
  {
   "cell_type": "code",
   "execution_count": 12,
   "metadata": {},
   "outputs": [
    {
     "data": {
      "text/plain": [
       "'../../data/phenotypes/Heading.csv'"
      ]
     },
     "execution_count": 12,
     "metadata": {},
     "output_type": "execute_result"
    }
   ],
   "source": [
    "res_path = '../../data/phenotypes/' + pheno + '.csv'\n",
    "df_.to_csv(res_path, sep=',', index=None)\n",
    "res_path"
   ]
  },
  {
   "cell_type": "code",
   "execution_count": null,
   "metadata": {},
   "outputs": [],
   "source": []
  },
  {
   "cell_type": "code",
   "execution_count": null,
   "metadata": {},
   "outputs": [],
   "source": []
  },
  {
   "cell_type": "code",
   "execution_count": null,
   "metadata": {},
   "outputs": [],
   "source": []
  },
  {
   "cell_type": "code",
   "execution_count": null,
   "metadata": {},
   "outputs": [],
   "source": []
  },
  {
   "cell_type": "code",
   "execution_count": null,
   "metadata": {},
   "outputs": [],
   "source": []
  }
 ],
 "metadata": {
  "kernelspec": {
   "display_name": "Python 3",
   "language": "python",
   "name": "python3"
  },
  "language_info": {
   "codemirror_mode": {
    "name": "ipython",
    "version": 3
   },
   "file_extension": ".py",
   "mimetype": "text/x-python",
   "name": "python",
   "nbconvert_exporter": "python",
   "pygments_lexer": "ipython3",
   "version": "3.6.5"
  }
 },
 "nbformat": 4,
 "nbformat_minor": 2
}
